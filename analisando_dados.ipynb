{
 "cells": [
  {
   "cell_type": "code",
   "execution_count": 1,
   "metadata": {},
   "outputs": [],
   "source": [
    "import pandas as pd;"
   ]
  },
  {
   "cell_type": "code",
   "execution_count": 4,
   "metadata": {},
   "outputs": [],
   "source": [
    "# Path\n",
    "path = './data_set/';\n",
    "\n",
    "# Name arquivo \n",
    "arquivo_youtube =  'youtube_estatisticas.csv';"
   ]
  },
  {
   "cell_type": "code",
   "execution_count": 5,
   "metadata": {},
   "outputs": [],
   "source": [
    "class DataSet:\n",
    "\n",
    "    def __init__(self,path):\n",
    "        self.path = path;\n",
    "\n",
    "    def setArquivo(self, arquivo):\n",
    "        self.arquivo_leitura = self.path + arquivo;\n",
    "        self.arquivo = arquivo;\n",
    "\n",
    "    def getArquivoUsadoNow(self):\n",
    "       print(f\"O arquivo utilizado é o  {self.arquivo} \")\n",
    "\n",
    "    # FUncao para limpeza\n",
    "    def mapearColunas(self,colunas_dataframe, colunas_para_alterar):\n",
    "        coluna_alter = {coluna_ref: coluna_nova for coluna_ref,coluna_nova in zip(colunas_dataframe,colunas_para_alterar )}\n",
    "        return coluna_alter;\n",
    "\n",
    "    def leituraDataSet(self):\n",
    "        df = pd.read_csv(self.arquivo_leitura,  encoding='latin1');\n",
    "        return df;\n"
   ]
  },
  {
   "cell_type": "code",
   "execution_count": 12,
   "metadata": {},
   "outputs": [],
   "source": [
    "# CLASSE REPSONSAVEL POR PLOTAR OS GRAFICOS\n",
    "class Graficos:\n",
    "    \n",
    "\n",
    "    def graficoHistograma():\n",
    "        # Plot grafico histograma\n",
    "        return true;\n",
    "\n",
    "    "
   ]
  },
  {
   "cell_type": "code",
   "execution_count": 6,
   "metadata": {},
   "outputs": [],
   "source": [
    "# Criando uma instancia da classe dataset\n",
    "dataset = DataSet(path)\n",
    "\n",
    "# Setando arquivo\n",
    "dataset.setArquivo(arquivo_youtube);"
   ]
  },
  {
   "cell_type": "code",
   "execution_count": 7,
   "metadata": {},
   "outputs": [],
   "source": [
    "df_youtube = dataset.leituraDataSet();"
   ]
  },
  {
   "cell_type": "code",
   "execution_count": 8,
   "metadata": {},
   "outputs": [
    {
     "data": {
      "text/plain": [
       "Index(['rank', 'Youtuber', 'subscribers', 'video views', 'category', 'Title',\n",
       "       'uploads', 'Country', 'Abbreviation', 'channel_type',\n",
       "       'video_views_rank', 'country_rank', 'channel_type_rank',\n",
       "       'video_views_for_the_last_30_days', 'lowest_monthly_earnings',\n",
       "       'highest_monthly_earnings', 'lowest_yearly_earnings',\n",
       "       'highest_yearly_earnings', 'subscribers_for_last_30_days',\n",
       "       'created_year', 'created_month', 'created_date',\n",
       "       'Gross tertiary education enrollment (%)', 'Population',\n",
       "       'Unemployment rate', 'Urban_population', 'Latitude', 'Longitude'],\n",
       "      dtype='object')"
      ]
     },
     "execution_count": 8,
     "metadata": {},
     "output_type": "execute_result"
    }
   ],
   "source": [
    "# Analisando as colunas do dataset\n",
    "df_youtube.columns"
   ]
  },
  {
   "cell_type": "code",
   "execution_count": 9,
   "metadata": {},
   "outputs": [],
   "source": [
    "# NOme das colunas a serem alteradas.\n",
    "colunas_alter_youtube = [\n",
    "    'rank',\n",
    "    'youtuber',\n",
    "    'inscritos',\n",
    "    'visualizacoes',\n",
    "    'categoria',\n",
    "    'titulo',\n",
    "    'uploads',\n",
    "    'pais',\n",
    "    'sigla_pais',\n",
    "    'tipo_canal',\n",
    "    'rank_views_por_video',\n",
    "    'rank_pais',\n",
    "    'rank_tipo_canal',\n",
    "    'visualizacoes_videos_ultimos_30_dias',\n",
    "    'ganhos_mes_baixa',\n",
    "    'ganhos_mes_alta',\n",
    "    'ganhos_ano_baixa',\n",
    "    'ganhos_abi_alta',\n",
    "    'inscritos_ultimos_30_dias',\n",
    "    'ano_criacao_canal',\n",
    "    'mes_criacao_canal',\n",
    "    'dia_criacao_canal',\n",
    "    'porcentagem_populacao_matriculado_ensinosuperior',\n",
    "    'populacao',\n",
    "    'taxa_desemprego',\n",
    "    'populacao_urbana',\n",
    "    'latitude',\n",
    "    'longitude'\n",
    "];\n"
   ]
  },
  {
   "cell_type": "code",
   "execution_count": 10,
   "metadata": {},
   "outputs": [],
   "source": [
    "# Mapeia as coilunas antigas e as novas para alterar o nome\n",
    "colunas = dataset.mapearColunas(df_youtube.columns, colunas_alter_youtube)\n",
    "\n",
    "df_youtube = df_youtube.rename(columns=colunas)\n"
   ]
  },
  {
   "cell_type": "code",
   "execution_count": null,
   "metadata": {},
   "outputs": [],
   "source": [
    "# Continuar com a limpeza de dataset - datas, nan  etc"
   ]
  }
 ],
 "metadata": {
  "kernelspec": {
   "display_name": "ambientekaggle",
   "language": "python",
   "name": "python3"
  },
  "language_info": {
   "codemirror_mode": {
    "name": "ipython",
    "version": 3
   },
   "file_extension": ".py",
   "mimetype": "text/x-python",
   "name": "python",
   "nbconvert_exporter": "python",
   "pygments_lexer": "ipython3",
   "version": "3.11.4"
  },
  "orig_nbformat": 4
 },
 "nbformat": 4,
 "nbformat_minor": 2
}
